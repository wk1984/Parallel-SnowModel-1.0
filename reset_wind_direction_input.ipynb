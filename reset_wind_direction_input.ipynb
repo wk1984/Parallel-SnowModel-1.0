{
 "cells": [
  {
   "cell_type": "code",
   "execution_count": 1,
   "id": "214074e9-9ebe-42aa-ade2-84bf9a7cb764",
   "metadata": {},
   "outputs": [],
   "source": [
    "import numpy as np"
   ]
  },
  {
   "cell_type": "code",
   "execution_count": 2,
   "id": "7363ec67-242e-4a41-9506-29c7efc0876e",
   "metadata": {},
   "outputs": [],
   "source": [
    "fid = open('example/met/nldas2/7_mk_mm/mm_3hrly_2017-2018.dat')\n",
    "\n",
    "fid2 = open('example_no_wdirc/met/nldas2/7_mk_mm/mm_3hrly_2017-2018.dat', mode = 'wt')\n",
    "\n",
    "for i in np.arange(2920):\n",
    "\n",
    "    hd = np.int16(fid.readline())\n",
    "\n",
    "    fid2.write(str(hd)+'\\n')\n",
    "    \n",
    "    for ii in np.arange(hd):\n",
    "    \n",
    "        line0 = fid.readline()\n",
    "        line00 = line0.split()\n",
    "        line00[11] = '0'\n",
    "    \n",
    "        # print(i, ii, line00)\n",
    "        fid2.write(line00[0]+' '+line00[1]+' '+line00[2]+' '+line00[3]+' '+line00[4]+' '+line00[5]+' '+line00[6]+' '+line00[7]+' '+line00[8]+' '+line00[9]+' '+line00[10]+' '+line00[11]+' '+line00[12]+'\\n')\n",
    "\n",
    "fid.close()\n",
    "fid2.close()"
   ]
  },
  {
   "cell_type": "code",
   "execution_count": null,
   "id": "701323e2-acd4-4c24-969d-09069cf3db2b",
   "metadata": {},
   "outputs": [],
   "source": []
  }
 ],
 "metadata": {
  "kernelspec": {
   "display_name": "Python 3 (ipykernel)",
   "language": "python",
   "name": "python3"
  },
  "language_info": {
   "codemirror_mode": {
    "name": "ipython",
    "version": 3
   },
   "file_extension": ".py",
   "mimetype": "text/x-python",
   "name": "python",
   "nbconvert_exporter": "python",
   "pygments_lexer": "ipython3",
   "version": "3.10.12"
  }
 },
 "nbformat": 4,
 "nbformat_minor": 5
}
