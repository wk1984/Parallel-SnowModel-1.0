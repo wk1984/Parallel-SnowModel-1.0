{
  "cells": [
    {
      "cell_type": "code",
      "execution_count": null,
      "metadata": {
        "id": "YRnfJtXsCS8y"
      },
      "outputs": [],
      "source": [
        "import ee, h5py, warnings\n",
        "import numpy as np\n",
        "import pandas as pd\n",
        "import xarray as xr\n",
        "import matplotlib.pyplot as plt\n",
        "\n",
        "warnings.filterwarnings('ignore')"
      ]
    },
    {
      "cell_type": "code",
      "execution_count": null,
      "metadata": {
        "colab": {
          "base_uri": "https://localhost:8080/"
        },
        "id": "PQnIkQkvCWNw",
        "outputId": "5c7aee33-f241-4ad0-9c95-5ea7af5cac02"
      },
      "outputs": [],
      "source": [
        "# Trigger the authentication flow.\n",
        "ee.Authenticate()"
      ]
    },
    {
      "cell_type": "code",
      "execution_count": null,
      "metadata": {
        "id": "vsL2F4VuQThE"
      },
      "outputs": [],
      "source": [
        "# Initialize the library.\n",
        "ee.Initialize()"
      ]
    },
    {
      "cell_type": "code",
      "execution_count": null,
      "metadata": {
        "colab": {
          "base_uri": "https://localhost:8080/",
          "height": 541
        },
        "id": "R3qKIM-PXaAM",
        "outputId": "ea9df8d2-5734-426a-db83-e728f36dabb7"
      },
      "outputs": [],
      "source": [
        "elv_id = xr.open_dataset('/content/elevation_0.25deg.nc')\n",
        "\n",
        "elv_id = elv_id.sel(latitude = slice(20, 90))\n",
        "\n",
        "elv_id = elv_id['elev'][0,0,:,:]\n",
        "\n",
        "elv_id"
      ]
    },
    {
      "cell_type": "code",
      "execution_count": null,
      "metadata": {
        "id": "qZU4E9Jxf5gl"
      },
      "outputs": [],
      "source": [
        "# modify the elevation matrix to match GDDP data ...\n",
        "\n",
        "elv_values = np.transpose(elv_id.values)\n",
        "elv_values[0:720]\n",
        "elv_values[720:]\n",
        "\n",
        "elv_values = np.r_[elv_values[720:], elv_values[0:720]]\n"
      ]
    },
    {
      "cell_type": "code",
      "execution_count": null,
      "metadata": {
        "colab": {
          "base_uri": "https://localhost:8080/",
          "height": 452
        },
        "id": "XjbvFCpdfz_k",
        "outputId": "8b4a3843-2c5d-4711-dfaf-4b599034dece"
      },
      "outputs": [],
      "source": [
        "plt.imshow(elv_values)"
      ]
    },
    {
      "cell_type": "code",
      "execution_count": null,
      "metadata": {
        "id": "thnwSkcwC9Pb"
      },
      "outputs": [],
      "source": [
        "gee_id = ee.ImageCollection(\"NASA/GDDP-CMIP6\")\n",
        "\n",
        "var_list = ['tas','pr','hurs','sfcWind']"
      ]
    },
    {
      "cell_type": "code",
      "execution_count": null,
      "metadata": {
        "id": "CDrUT7zJEPE1"
      },
      "outputs": [],
      "source": [
        "gee_poi = ee.Geometry.BBox(-180, 20, 180, 90)"
      ]
    },
    {
      "cell_type": "code",
      "execution_count": null,
      "metadata": {
        "id": "k2Q5ohCaEhT8"
      },
      "outputs": [],
      "source": [
        "year0 = 1984"
      ]
    },
    {
      "cell_type": "code",
      "execution_count": null,
      "metadata": {
        "id": "_XHSN--XEc6T"
      },
      "outputs": [],
      "source": [
        "i_date = str(year0)+\"-01-01\"\n",
        "f_date = str(year0)+\"-01-02\""
      ]
    },
    {
      "cell_type": "code",
      "execution_count": null,
      "metadata": {
        "id": "jvdfegpMEjJu"
      },
      "outputs": [],
      "source": [
        "gee_id_2 = gee_id.select(['tas']).filterDate(i_date, f_date).filter(ee.Filter.eq('model', 'ACCESS-CM2'))"
      ]
    },
    {
      "cell_type": "code",
      "execution_count": null,
      "metadata": {
        "id": "99tOTLHFErou"
      },
      "outputs": [],
      "source": [
        "gee_data = gee_id_2.getRegion(gee_poi, 27830 * 1).getInfo()"
      ]
    },
    {
      "cell_type": "code",
      "execution_count": null,
      "metadata": {
        "id": "lcR9sm3LE_zW"
      },
      "outputs": [],
      "source": [
        "df = pd.DataFrame(gee_data)\n",
        "# Rearrange the header.\n",
        "headers = df.iloc[0]\n",
        "df = pd.DataFrame(df.values[1:], columns=headers)"
      ]
    },
    {
      "cell_type": "code",
      "execution_count": null,
      "metadata": {
        "colab": {
          "base_uri": "https://localhost:8080/",
          "height": 419
        },
        "id": "Rxf-Zhv_F4AR",
        "outputId": "c91b4019-b037-45f6-a715-fbdeae349d62"
      },
      "outputs": [],
      "source": [
        "df"
      ]
    },
    {
      "cell_type": "code",
      "execution_count": null,
      "metadata": {
        "colab": {
          "base_uri": "https://localhost:8080/"
        },
        "id": "DRBQk0psYh15",
        "outputId": "b4e6d4a4-632d-4d8b-e375-15d5efa7b61d"
      },
      "outputs": [],
      "source": [
        "len(df.latitude.unique())\n",
        "len(df.longitude.unique())"
      ]
    },
    {
      "cell_type": "code",
      "execution_count": null,
      "metadata": {
        "colab": {
          "base_uri": "https://localhost:8080/"
        },
        "id": "g9Y_nWx5Ytf1",
        "outputId": "f930790f-0b6e-4e0a-8918-6f7b3f1e39c8"
      },
      "outputs": [],
      "source": [
        "test = df.pivot('longitude','latitude')['tas'].values\n",
        "\n",
        "test[test == None] = np.nan\n",
        "\n",
        "test = np.float16(test)\n",
        "\n",
        "test"
      ]
    },
    {
      "cell_type": "code",
      "execution_count": null,
      "metadata": {
        "colab": {
          "base_uri": "https://localhost:8080/",
          "height": 452
        },
        "id": "uUXKth6KZA4U",
        "outputId": "489edb8f-cc53-4678-a604-eab43919b66e"
      },
      "outputs": [],
      "source": [
        "plt.imshow(test)"
      ]
    },
    {
      "cell_type": "code",
      "execution_count": null,
      "metadata": {
        "colab": {
          "base_uri": "https://localhost:8080/",
          "height": 447
        },
        "id": "AbBjwxyZI5TQ",
        "outputId": "f726b499-b4e3-4c97-f458-6c4b7a8b4207"
      },
      "outputs": [],
      "source": [
        "plt.scatter(df.longitude, df.latitude)"
      ]
    },
    {
      "cell_type": "code",
      "execution_count": null,
      "metadata": {
        "id": "2HqmY1N8VMt_"
      },
      "outputs": [],
      "source": [
        "df = df[df.tas.values != None]\n",
        "df = df[df.pr.values != None]"
      ]
    }
  ],
  "metadata": {
    "colab": {
      "provenance": []
    },
    "kernelspec": {
      "display_name": "Python 3",
      "name": "python3"
    },
    "language_info": {
      "name": "python"
    }
  },
  "nbformat": 4,
  "nbformat_minor": 0
}
