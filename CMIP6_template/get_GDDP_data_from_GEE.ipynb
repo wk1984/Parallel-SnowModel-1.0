{
  "cells": [
    {
      "cell_type": "code",
      "execution_count": null,
      "metadata": {
        "id": "YRnfJtXsCS8y"
      },
      "outputs": [],
      "source": [
        "import ee, h5py, warnings\n",
        "import numpy as np\n",
        "import pandas as pd\n",
        "import xarray as xr\n",
        "import matplotlib.pyplot as plt\n",
        "\n",
        "warnings.filterwarnings('ignore')"
      ]
    },
    {
      "cell_type": "code",
      "execution_count": null,
      "metadata": {
        "colab": {
          "base_uri": "https://localhost:8080/"
        },
        "id": "PQnIkQkvCWNw",
        "outputId": "5c7aee33-f241-4ad0-9c95-5ea7af5cac02"
      },
      "outputs": [],
      "source": [
        "# Trigger the authentication flow.\n",
        "ee.Authenticate()"
      ]
    },
    {
      "cell_type": "code",
      "execution_count": null,
      "metadata": {
        "id": "vsL2F4VuQThE"
      },
      "outputs": [],
      "source": [
        "# Initialize the library.\n",
        "ee.Initialize()"
      ]
    },
    {
      "cell_type": "code",
      "execution_count": null,
      "metadata": {
        "colab": {
          "base_uri": "https://localhost:8080/",
          "height": 392
        },
        "id": "R3qKIM-PXaAM",
        "outputId": "fc19342b-747b-4449-b799-8feb9b3da9eb"
      },
      "outputs": [],
      "source": [
        "elv_id = xr.open_dataset('/content/elevation_0.25deg.nc')\n",
        "\n",
        "elv_id = elv_id.sel(latitude = slice(20, 90))\n",
        "\n",
        "elv_id = elv_id['elev'][0,0,:,:]\n",
        "\n",
        "elv_id"
      ]
    },
    {
      "cell_type": "code",
      "execution_count": null,
      "metadata": {
        "id": "thnwSkcwC9Pb"
      },
      "outputs": [],
      "source": [
        "gee_id = ee.ImageCollection(\"NASA/GDDP-CMIP6\")\n",
        "\n",
        "var_list = ['tas','pr','hurs','sfcWind']"
      ]
    },
    {
      "cell_type": "code",
      "execution_count": null,
      "metadata": {
        "id": "CDrUT7zJEPE1"
      },
      "outputs": [],
      "source": [
        "gee_poi = ee.Geometry.BBox(-180, 20, 180, 90)"
      ]
    },
    {
      "cell_type": "code",
      "execution_count": null,
      "metadata": {
        "id": "k2Q5ohCaEhT8"
      },
      "outputs": [],
      "source": [
        "year0 = 1984"
      ]
    },
    {
      "cell_type": "code",
      "execution_count": null,
      "metadata": {
        "id": "_XHSN--XEc6T"
      },
      "outputs": [],
      "source": [
        "i_date = str(year0)+\"-01-01\"\n",
        "f_date = str(year0)+\"-01-02\""
      ]
    },
    {
      "cell_type": "code",
      "execution_count": null,
      "metadata": {
        "id": "jvdfegpMEjJu"
      },
      "outputs": [],
      "source": [
        "gee_id_2 = gee_id.select(['tas']).filterDate(i_date, f_date).filter(ee.Filter.eq('model', 'ACCESS-CM2'))"
      ]
    },
    {
      "cell_type": "code",
      "execution_count": null,
      "metadata": {
        "id": "99tOTLHFErou"
      },
      "outputs": [],
      "source": [
        "gee_data = gee_id_2.getRegion(gee_poi, 27830 * 1).getInfo()"
      ]
    },
    {
      "cell_type": "code",
      "execution_count": null,
      "metadata": {
        "id": "lcR9sm3LE_zW"
      },
      "outputs": [],
      "source": [
        "df = pd.DataFrame(gee_data)\n",
        "# Rearrange the header.\n",
        "headers = df.iloc[0]\n",
        "df = pd.DataFrame(df.values[1:], columns=headers)"
      ]
    },
    {
      "cell_type": "code",
      "execution_count": null,
      "metadata": {
        "colab": {
          "base_uri": "https://localhost:8080/",
          "height": 419
        },
        "id": "Rxf-Zhv_F4AR",
        "outputId": "1167d455-eec2-45a2-d110-a1ccc60f8913"
      },
      "outputs": [],
      "source": [
        "df"
      ]
    },
    {
      "cell_type": "code",
      "execution_count": null,
      "metadata": {
        "colab": {
          "base_uri": "https://localhost:8080/"
        },
        "id": "DRBQk0psYh15",
        "outputId": "ccc2eabc-badf-438a-a6f3-901290f20762"
      },
      "outputs": [],
      "source": [
        "len(df.latitude.unique())\n",
        "len(df.longitude.unique())"
      ]
    },
    {
      "cell_type": "code",
      "execution_count": null,
      "metadata": {
        "colab": {
          "base_uri": "https://localhost:8080/"
        },
        "id": "g9Y_nWx5Ytf1",
        "outputId": "b16e8ae7-7529-4b19-8964-3e2f4fe9251f"
      },
      "outputs": [],
      "source": [
        "test = df.pivot('longitude','latitude')['tas'].values\n",
        "\n",
        "test[test == None] = np.nan\n",
        "\n",
        "test = np.float16(test)\n",
        "\n",
        "test"
      ]
    },
    {
      "cell_type": "code",
      "execution_count": null,
      "metadata": {
        "colab": {
          "base_uri": "https://localhost:8080/",
          "height": 452
        },
        "id": "uUXKth6KZA4U",
        "outputId": "940861c0-879f-46b6-d40f-cad870c2c2dc"
      },
      "outputs": [],
      "source": [
        "plt.imshow(test)"
      ]
    },
    {
      "cell_type": "code",
      "execution_count": null,
      "metadata": {
        "colab": {
          "base_uri": "https://localhost:8080/",
          "height": 452
        },
        "id": "vdYqt9PzZoJc",
        "outputId": "25e41a7e-6843-4e9a-9501-0cdf60d0ba9f"
      },
      "outputs": [],
      "source": [
        "plt.imshow(np.flipud(np.transpose(elv_id.values)))"
      ]
    },
    {
      "cell_type": "code",
      "execution_count": null,
      "metadata": {
        "colab": {
          "base_uri": "https://localhost:8080/",
          "height": 447
        },
        "id": "AbBjwxyZI5TQ",
        "outputId": "f726b499-b4e3-4c97-f458-6c4b7a8b4207"
      },
      "outputs": [],
      "source": [
        "plt.scatter(df.longitude, df.latitude)"
      ]
    },
    {
      "cell_type": "code",
      "execution_count": null,
      "metadata": {
        "id": "2HqmY1N8VMt_"
      },
      "outputs": [],
      "source": [
        "df = df[df.tas.values != None]\n",
        "df = df[df.pr.values != None]"
      ]
    }
  ],
  "metadata": {
    "colab": {
      "provenance": []
    },
    "kernelspec": {
      "display_name": "Python 3",
      "name": "python3"
    },
    "language_info": {
      "codemirror_mode": {
        "name": "ipython",
        "version": 3
      },
      "file_extension": ".py",
      "mimetype": "text/x-python",
      "name": "python",
      "nbconvert_exporter": "python",
      "pygments_lexer": "ipython3",
      "version": "3.10.12"
    }
  },
  "nbformat": 4,
  "nbformat_minor": 0
}
